{
 "cells": [
  {
   "cell_type": "code",
   "execution_count": null,
   "metadata": {},
   "outputs": [],
   "source": [
    "import tensorflow as tf\n",
    "from tensorflow.examples.tutorials.mnist import input_data\n",
    "mnist = input_data.read_data_sets(“/tmp/data/”, one_hot=True)\n",
    "learning_rate = 0.0001\n",
    "batch_size = 100\n",
    "update_step = 10\n",
    "layer_1_nodes = 500\n",
    "layer_2_nodes = 500\n",
    "layer_3_nodes = 500\n",
    "output_nodes = 10\n",
    "network_input = tf.placeholder(tf.float32, [None, 784])\n",
    "target_output = tf.placeholder(tf.float32, [None, output_nodes])\n",
    "layer_1 = tf.Variable(tf.random_normal([784, layer_1_nodes]))\n",
    "layer_1_bias = tf.Variable(tf.random_normal([layer_1_nodes]))\n",
    "layer_2 = tf.Variable(tf.random_normal([layer_1_nodes, layer_2_nodes]))\n",
    "layer_2_bias = tf.Variable(tf.random_normal([layer_2_nodes]))\n",
    "layer_3 = tf.Variable(tf.random_normal([layer_2_nodes, layer_3_nodes]))\n",
    "layer_3_bias = tf.Variable(tf.random_normal([layer_3_nodes]))\n",
    "out_layer = tf.Variable(tf.random_normal([layer_3_nodes, output_nodes]))\n",
    "out_layer_bias = tf.Variable(tf.random_normal([output_nodes]))\n",
    "l1_output = tf.nn.relu(tf.matmul(network_input, layer_1) + layer_1_bias)\n",
    "l2_output = tf.nn.relu(tf.matmul(l1_output, layer_2) + layer_2_bias)\n",
    "l3_output = tf.nn.relu(tf.matmul(l2_output, layer_3) + layer_3_bias)\n",
    "ntwk_output_1 = tf.matmul(l3_output, out_layer) + out_layer_bias\n",
    "ntwk_output_2 = tf.nn.softmax(ntwk_output_1)\n",
    "cf = tf.reduce_mean(tf.nn.softmax_cross_entropy_with_logits(logits=ntwk_output_1, labels=target_output))\n",
    "ts = tf.train.GradientDescentOptimizer(learning_rate).minimize(cf)\n",
    "cp = tf.equal(tf.argmax(ntwk_output_2, 1), tf.argmax(target_output, 1))\n",
    "acc = tf.reduce_mean(tf.cast(cp, tf.float32))"
   ]
  }
 ],
 "metadata": {
  "kernelspec": {
   "display_name": "Python 3.10.9 64-bit",
   "language": "python",
   "name": "python3"
  },
  "language_info": {
   "name": "python",
   "version": "3.10.9"
  },
  "orig_nbformat": 4,
  "vscode": {
   "interpreter": {
    "hash": "6dd79e53c4fa9cbee026ee0eb15bcba980be86d3eff0fbb2908a3c577bedec7e"
   }
  }
 },
 "nbformat": 4,
 "nbformat_minor": 2
}
